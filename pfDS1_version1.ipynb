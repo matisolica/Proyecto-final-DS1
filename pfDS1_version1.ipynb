{
 "cells": [
  {
   "cell_type": "code",
   "execution_count": 10,
   "metadata": {},
   "outputs": [],
   "source": [
    "import pandas as pd\n",
    "import numpy as np\n",
    "import matplotlib as mpl\n",
    "import matplotlib.pyplot as plt\n",
    "import seaborn as sns\n",
    "url = 'https://github.com/matisolica/Proyecto-final-DS1/raw/bd6cb31c2509e8c662132e43d728f7f5bcd364f5/Matias%20Isolica%20Dataset%20-%20Ausentismo%20y%20coberturas%20Enfermeria%202023.xlsx'\n",
    "dbexcel = pd.read_excel(url, sheet_name=None)"
   ]
  },
  {
   "cell_type": "code",
   "execution_count": 11,
   "metadata": {},
   "outputs": [
    {
     "name": "stdout",
     "output_type": "stream",
     "text": [
      "dict_keys(['Tb_Coberturas', 'Tb_Ausentismo', 'Tb_Nomina', 'Tb_Motivos', 'Tb_FormaDeCobertura', 'Tb_Turnos', 'Tb_Servicios', 'Tb_Categorias', 'Tb_Localidades'])\n"
     ]
    }
   ],
   "source": [
    "#printeo los nombres de las hojas del xlsx\n",
    "print(dbexcel.keys())"
   ]
  },
  {
   "cell_type": "code",
   "execution_count": 14,
   "metadata": {},
   "outputs": [],
   "source": [
    "#asigno nombre de variable a cada hoja del xlsx\n",
    "df_cob = dbexcel['Tb_Coberturas']\n",
    "df_aus = dbexcel['Tb_Ausentismo']\n",
    "df_nom = dbexcel['Tb_Nomina']\n",
    "df_mot = dbexcel['Tb_Motivos']\n",
    "df_formcob = dbexcel['Tb_FormaDeCobertura']\n",
    "df_tur = dbexcel['Tb_Turnos']\n",
    "db_ser = dbexcel['Tb_Servicios']\n",
    "db_cat = dbexcel['Tb_Categorias']\n",
    "db_loc = dbexcel['Tb_Localidades']"
   ]
  }
 ],
 "metadata": {
  "kernelspec": {
   "display_name": "Python 3",
   "language": "python",
   "name": "python3"
  },
  "language_info": {
   "codemirror_mode": {
    "name": "ipython",
    "version": 3
   },
   "file_extension": ".py",
   "mimetype": "text/x-python",
   "name": "python",
   "nbconvert_exporter": "python",
   "pygments_lexer": "ipython3",
   "version": "3.11.9"
  }
 },
 "nbformat": 4,
 "nbformat_minor": 2
}
