{
 "cells": [
  {
   "cell_type": "code",
   "execution_count": 34,
   "metadata": {},
   "outputs": [],
   "source": [
    "import pandas as pd\n",
    "import numpy as np\n",
    "import matplotlib as mpl\n",
    "import matplotlib.pyplot as plt\n",
    "import seaborn as sns\n",
    "url = 'https://github.com/matisolica/Proyecto-final-DS1/raw/bd6cb31c2509e8c662132e43d728f7f5bcd364f5/Matias%20Isolica%20Dataset%20-%20Ausentismo%20y%20coberturas%20Enfermeria%202023.xlsx'\n",
    "dbexcel = pd.read_excel(url, sheet_name=None)"
   ]
  },
  {
   "cell_type": "code",
   "execution_count": 35,
   "metadata": {},
   "outputs": [
    {
     "name": "stdout",
     "output_type": "stream",
     "text": [
      "dict_keys(['Tb_Coberturas', 'Tb_Ausentismo', 'Tb_Nomina', 'Tb_Motivos', 'Tb_FormaDeCobertura', 'Tb_Turnos', 'Tb_Servicios', 'Tb_Categorias', 'Tb_Localidades'])\n"
     ]
    }
   ],
   "source": [
    "#printeo los nombres de las hojas del xlsx\n",
    "print(dbexcel.keys())"
   ]
  },
  {
   "cell_type": "code",
   "execution_count": 36,
   "metadata": {},
   "outputs": [],
   "source": [
    "#asigno nombre de variable a cada hoja del xlsx\n",
    "df_cob = dbexcel['Tb_Coberturas'] #Muestra las coberturas generadas en función del ausentismo\n",
    "df_aus = dbexcel['Tb_Ausentismo'] #Muestra los colaboradores que se ausentaron\n",
    "df_nom = dbexcel['Tb_Nomina'] #Muestra la nómina de colaboradores\n",
    "df_mot = dbexcel['Tb_Motivos'] #Muestra los motivos nominalizados de ausencia\n",
    "df_formcob = dbexcel['Tb_FormaDeCobertura'] #Muestra las formas de cobertura existentes\n",
    "df_tur = dbexcel['Tb_Turnos'] #Muestra los turnos existentes\n",
    "db_ser = dbexcel['Tb_Servicios'] #Muestra los servicios asistenciales existentes en el sanatorio\n",
    "db_cat = dbexcel['Tb_Categorias'] #Muestra las categorías profesionales existentes en la estructura de Enfermería\n",
    "db_loc = dbexcel['Tb_Localidades'] #Muestra las localidades en las que al menos un colaborador reside"
   ]
  },
  {
   "cell_type": "code",
   "execution_count": 37,
   "metadata": {},
   "outputs": [
    {
     "data": {
      "text/html": [
       "<div>\n",
       "<style scoped>\n",
       "    .dataframe tbody tr th:only-of-type {\n",
       "        vertical-align: middle;\n",
       "    }\n",
       "\n",
       "    .dataframe tbody tr th {\n",
       "        vertical-align: top;\n",
       "    }\n",
       "\n",
       "    .dataframe thead th {\n",
       "        text-align: right;\n",
       "    }\n",
       "</style>\n",
       "<table border=\"1\" class=\"dataframe\">\n",
       "  <thead>\n",
       "    <tr style=\"text-align: right;\">\n",
       "      <th></th>\n",
       "      <th>ID</th>\n",
       "      <th>FormaDeCoberturaID</th>\n",
       "      <th>Legajo_Reemplazo</th>\n",
       "      <th>Cant_Hs</th>\n",
       "      <th>TurnoID2</th>\n",
       "    </tr>\n",
       "  </thead>\n",
       "  <tbody>\n",
       "    <tr>\n",
       "      <th>0</th>\n",
       "      <td>1</td>\n",
       "      <td>6</td>\n",
       "      <td>NaN</td>\n",
       "      <td>7.0</td>\n",
       "      <td>NaN</td>\n",
       "    </tr>\n",
       "    <tr>\n",
       "      <th>1</th>\n",
       "      <td>2</td>\n",
       "      <td>6</td>\n",
       "      <td>NaN</td>\n",
       "      <td>7.0</td>\n",
       "      <td>NaN</td>\n",
       "    </tr>\n",
       "    <tr>\n",
       "      <th>2</th>\n",
       "      <td>3</td>\n",
       "      <td>6</td>\n",
       "      <td>NaN</td>\n",
       "      <td>7.0</td>\n",
       "      <td>NaN</td>\n",
       "    </tr>\n",
       "    <tr>\n",
       "      <th>3</th>\n",
       "      <td>4</td>\n",
       "      <td>6</td>\n",
       "      <td>NaN</td>\n",
       "      <td>7.0</td>\n",
       "      <td>NaN</td>\n",
       "    </tr>\n",
       "    <tr>\n",
       "      <th>4</th>\n",
       "      <td>5</td>\n",
       "      <td>4</td>\n",
       "      <td>7942.0</td>\n",
       "      <td>7.0</td>\n",
       "      <td>4.0</td>\n",
       "    </tr>\n",
       "  </tbody>\n",
       "</table>\n",
       "</div>"
      ],
      "text/plain": [
       "   ID  FormaDeCoberturaID  Legajo_Reemplazo  Cant_Hs  TurnoID2\n",
       "0   1                   6               NaN      7.0       NaN\n",
       "1   2                   6               NaN      7.0       NaN\n",
       "2   3                   6               NaN      7.0       NaN\n",
       "3   4                   6               NaN      7.0       NaN\n",
       "4   5                   4            7942.0      7.0       4.0"
      ]
     },
     "execution_count": 37,
     "metadata": {},
     "output_type": "execute_result"
    }
   ],
   "source": [
    "#Visualizar el encabezado del df_cob\n",
    "df_cob.head()"
   ]
  },
  {
   "cell_type": "code",
   "execution_count": 38,
   "metadata": {},
   "outputs": [
    {
     "data": {
      "text/html": [
       "<div>\n",
       "<style scoped>\n",
       "    .dataframe tbody tr th:only-of-type {\n",
       "        vertical-align: middle;\n",
       "    }\n",
       "\n",
       "    .dataframe tbody tr th {\n",
       "        vertical-align: top;\n",
       "    }\n",
       "\n",
       "    .dataframe thead th {\n",
       "        text-align: right;\n",
       "    }\n",
       "</style>\n",
       "<table border=\"1\" class=\"dataframe\">\n",
       "  <thead>\n",
       "    <tr style=\"text-align: right;\">\n",
       "      <th></th>\n",
       "      <th>FormaDeCoberturaID</th>\n",
       "      <th>FormaDeCobertura</th>\n",
       "    </tr>\n",
       "  </thead>\n",
       "  <tbody>\n",
       "    <tr>\n",
       "      <th>0</th>\n",
       "      <td>1</td>\n",
       "      <td>Banco de Horas</td>\n",
       "    </tr>\n",
       "    <tr>\n",
       "      <th>1</th>\n",
       "      <td>2</td>\n",
       "      <td>Cambio de Guardia</td>\n",
       "    </tr>\n",
       "    <tr>\n",
       "      <th>2</th>\n",
       "      <td>3</td>\n",
       "      <td>Cambio de Turno</td>\n",
       "    </tr>\n",
       "    <tr>\n",
       "      <th>3</th>\n",
       "      <td>4</td>\n",
       "      <td>Horas Extras</td>\n",
       "    </tr>\n",
       "    <tr>\n",
       "      <th>4</th>\n",
       "      <td>5</td>\n",
       "      <td>Plus x Referente</td>\n",
       "    </tr>\n",
       "    <tr>\n",
       "      <th>5</th>\n",
       "      <td>6</td>\n",
       "      <td>Sin Cobertura</td>\n",
       "    </tr>\n",
       "    <tr>\n",
       "      <th>6</th>\n",
       "      <td>7</td>\n",
       "      <td>Transferencia</td>\n",
       "    </tr>\n",
       "  </tbody>\n",
       "</table>\n",
       "</div>"
      ],
      "text/plain": [
       "   FormaDeCoberturaID    FormaDeCobertura\n",
       "0                   1      Banco de Horas\n",
       "1                   2  Cambio de Guardia \n",
       "2                   3     Cambio de Turno\n",
       "3                   4        Horas Extras\n",
       "4                   5    Plus x Referente\n",
       "5                   6       Sin Cobertura\n",
       "6                   7       Transferencia"
      ]
     },
     "execution_count": 38,
     "metadata": {},
     "output_type": "execute_result"
    }
   ],
   "source": [
    "#Visualizar el df df_formcob\n",
    "df_formcob"
   ]
  },
  {
   "cell_type": "code",
   "execution_count": 48,
   "metadata": {},
   "outputs": [
    {
     "name": "stdout",
     "output_type": "stream",
     "text": [
      "     FormaDeCobertura  Cant_Hs\n",
      "0      Banco de Horas   6988.0\n",
      "1  Cambio de Guardia    8995.0\n",
      "2     Cambio de Turno   2429.5\n",
      "3        Horas Extras  34403.0\n",
      "4    Plus x Referente   3409.5\n",
      "5       Sin Cobertura  25944.5\n",
      "6       Transferencia   2400.0\n"
     ]
    }
   ],
   "source": [
    "#Joinear los df df_cob y df_formcob. Luego creo df_cob_grouped con las categorías no normalizadas y sumando el total de horas por categoría en el año\n",
    "\n",
    "df_cob_merged = df_cob.merge(df_formcob, on='FormaDeCoberturaID')\n",
    "df_cob_grouped = df_cob_merged.groupby('FormaDeCobertura')['Cant_Hs'].sum().reset_index()\n",
    "print(df_cob_grouped)"
   ]
  },
  {
   "cell_type": "code",
   "execution_count": 77,
   "metadata": {},
   "outputs": [
    {
     "data": {
      "image/png": "[encoded data removed]",
      "text/plain": [
       "<Figure size 1000x600 with 1 Axes>"
      ]
     },
     "metadata": {},
     "output_type": "display_data"
    }
   ],
   "source": [
    "# Grafico 1 MatPlotLib - Ausentismo 2023 según forma de cobertura\n",
    "\n",
    "plt.figure(figsize=(10,6))\n",
    "sns.barplot(y = 'FormaDeCobertura', x = 'Cant_Hs', data = df_cob_grouped)\n",
    "plt.title(\"Ausentismo 2023 según forma de cobertura\", \n",
    "             fontsize = 14, fontweight = 'bold', pad = 30)\n",
    "plt.xlabel('Cant. horas', fontsize = 10, fontweight = 'bold')\n",
    "plt.ylabel('Forma de cobertura', fontsize = 10, fontweight = 'bold')\n",
    "ax = plt.gca() #obtengo el eje\n",
    "for p in ax.patches: #ax.patches obtengo las barras\n",
    "    valores = p.get_width() #obtengo el valor de la barra\n",
    "    ax.text(valores + 5, p.get_y() + p.get_height()/2, f'{valores:.0f}', #agrega texto (valores) al grafico y posiciono los valores verticalmente en el centro de la barra\n",
    "            ha = 'center', va = 'center', fontsize = 10, fontweight = 'bold', color = 'blue')\n",
    "\n",
    "plt.show()\n",
    "\n"
   ]
  },
  {
   "cell_type": "code",
   "execution_count": null,
   "metadata": {},
   "outputs": [],
   "source": [
    "#Grafico radar 5 turnos con extras?"
   ]
  }
 ],
 "metadata": {
  "kernelspec": {
   "display_name": "Python 3",
   "language": "python",
   "name": "python3"
  },
  "language_info": {
   "codemirror_mode": {
    "name": "ipython",
    "version": 3
   },
   "file_extension": ".py",
   "mimetype": "text/x-python",
   "name": "python",
   "nbconvert_exporter": "python",
   "pygments_lexer": "ipython3",
   "version": "3.11.9"
  }
 },
 "nbformat": 4,
 "nbformat_minor": 2
}
